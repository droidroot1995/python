{
 "cells": [
  {
   "cell_type": "markdown",
   "metadata": {},
   "source": [
    "$$ E_{f} = 27600\\\\\n",
    "E_{m} = 290\\\\\n",
    "\\\\\n",
    "V_{m} = 0.34\\\\\n",
    "V_{f} = 0.66\\\\\n",
    "\\\\\n",
    "\\alpha_{f} = 0.000005\\\\\n",
    "\\alpha_{m} = 0.000063\\\\\n",
    "\\\\\n",
    "\\nu_{f} = 0.3\\\\\n",
    "\\nu_{m} = 0.3\\\\\n",
    "\\\\\n",
    "\\rho_{f} = 0.0025\\\\\n",
    "\\rho_{m} = 0.0012\\\\\n",
    "\\\\\n",
    "\\sigma_{bf}^+ = 85\\\\\n",
    "\\sigma_{bm}^+ = 3.4\\\\\n",
    "\\\\\n",
    "\\beta_{f} = 0\\\\\n",
    "\\beta_{m} = 0.33\\\\$$"
   ]
  },
  {
   "cell_type": "code",
   "execution_count": 1,
   "metadata": {
    "collapsed": true
   },
   "outputs": [],
   "source": [
    "%matplotlib inline\n",
    "from matplotlib import pyplot as plt\n",
    "\n",
    "ef = 27600\n",
    "em = 290\n",
    "\n",
    "vm = 0.34\n",
    "vf = 0.66\n",
    "\n",
    "alphaf = 0.000005\n",
    "alpham = 0.000063\n",
    "\n",
    "nuf = 0.3\n",
    "num = 0.3\n",
    "\n",
    "rhof = 0.0025\n",
    "rhom = 0.0012\n",
    "\n",
    "sigbf = 85\n",
    "sigbm = 3.4\n",
    "\n",
    "betaf = 0\n",
    "betam = 0.33"
   ]
  },
  {
   "cell_type": "markdown",
   "metadata": {},
   "source": [
    "$$ E_{1} = V_{f}*E_{f} + (1-V_{f})*E_{m} $$"
   ]
  },
  {
   "cell_type": "code",
   "execution_count": 2,
   "metadata": {
    "collapsed": false
   },
   "outputs": [],
   "source": [
    "def E1(vf):\n",
    "    return vf*ef+(1-vf)*em"
   ]
  },
  {
   "cell_type": "markdown",
   "metadata": {},
   "source": [
    "$$ E_{2} = \\frac{E_{m}*E_{f}}{(V_{f}*E_{m}+V_{m}*E_{f})} $$"
   ]
  },
  {
   "cell_type": "code",
   "execution_count": 3,
   "metadata": {
    "collapsed": true
   },
   "outputs": [],
   "source": [
    "def E2(vf, vm):\n",
    "    return em*ef/(vf*em+vm*ef)\n",
    "    #return em/(1-vf*(1-(em/ef)))"
   ]
  },
  {
   "cell_type": "markdown",
   "metadata": {},
   "source": [
    "$$ \\alpha_{1} = \\frac{(V_{f}*\\alpha_{f}*E_{f} + V_{m}*\\alpha_{m}*E_{m})}{(V_{f}*E_{f} + V_{m}*E_{m})} $$"
   ]
  },
  {
   "cell_type": "code",
   "execution_count": 4,
   "metadata": {
    "collapsed": true
   },
   "outputs": [],
   "source": [
    "def Alpha1(vf, vm):\n",
    "    return (vf*alphaf*ef + vm*alpham*em)/(vf*ef + vm*em)"
   ]
  },
  {
   "cell_type": "markdown",
   "metadata": {},
   "source": [
    "$$ \\alpha_{2} = V_{f}*\\alpha_{f} + V_{m}*\\alpha_{m} + \\frac{(V_{m}*E_{f} - V_{f}*E_{m})*(\\alpha_{m} - \\alpha_{f})}{(\\frac{E_{f}}{V_{m}} + \\frac{E_{m}}{V_{f}})} $$"
   ]
  },
  {
   "cell_type": "code",
   "execution_count": 5,
   "metadata": {
    "collapsed": true
   },
   "outputs": [],
   "source": [
    "def Alpha2(vf, vm):\n",
    "    return (vf*alphaf + vm*alpham +\n",
    "            (vm*ef - vf*em)*(alpham - alphaf)/\n",
    "            ((ef/vm + em/vf)))"
   ]
  },
  {
   "cell_type": "markdown",
   "metadata": {},
   "source": [
    "$$ \\nu_{12} = V_{f}*\\nu_{f} + V_{m}*\\nu_{m} $$"
   ]
  },
  {
   "cell_type": "code",
   "execution_count": 6,
   "metadata": {
    "collapsed": true
   },
   "outputs": [],
   "source": [
    "def Nu12(vf, vm):\n",
    "    return vf*nuf + vm*num"
   ]
  },
  {
   "cell_type": "markdown",
   "metadata": {},
   "source": [
    "$$ \\rho = V_{f}*\\rho_{f} + V_{m}*\\rho_{m} $$"
   ]
  },
  {
   "cell_type": "code",
   "execution_count": 7,
   "metadata": {
    "collapsed": true
   },
   "outputs": [],
   "source": [
    "def Rho(vf, vm):\n",
    "    return vf*rhof + vm*rhom"
   ]
  },
  {
   "cell_type": "markdown",
   "metadata": {},
   "source": [
    "$$ \\sigma_{b1}^+ = V_{f}*\\sigma_{bf}^+ + V_{m}*\\sigma_{bm}^+ $$"
   ]
  },
  {
   "cell_type": "code",
   "execution_count": 8,
   "metadata": {
    "collapsed": true
   },
   "outputs": [],
   "source": [
    "def Sigb1(vf, vm):\n",
    "    return vf*sigbf + vm*sigbm"
   ]
  },
  {
   "cell_type": "markdown",
   "metadata": {},
   "source": [
    "$$ \\beta_{1} = \\frac{(\\beta_{f}*\\Delta C_{f}*V_{f}*E_{f} + \\beta_{m}*\\Delta C_{m}*B_{m}*E_{m})}{E_{1}*(\\Delta C_{f}*\\rho_{f}*V_{f} + \\Delta C_{m}*\\rho_{m}*V_{m})}*\\rho\\\\\n",
    "\\Delta C_{f} = 0\\\\\n",
    "=> \\beta_{1} = (\\frac{E_{m}}{E_{1}})*(\\frac{\\rho}{\\rho_{m}})*\\beta_{m}$$"
   ]
  },
  {
   "cell_type": "code",
   "execution_count": 9,
   "metadata": {
    "collapsed": true
   },
   "outputs": [],
   "source": [
    "def Beta1(em, e1, rho): #delta_cf, delta_cm, vf, vm, ef, em):\n",
    "    return (em/e1)*(rho/rhom)*betam\n",
    "    #return (betaf*delta_cf*vf*ef +\n",
    "    #        betam*delta_cm*vm*em)*Rho(vf, vm)/\n",
    "#(E1(vf)*(delta_cf*phof*vf + delta_cm*rhom*vm))"
   ]
  },
  {
   "cell_type": "markdown",
   "metadata": {},
   "source": [
    "$$ \\beta_{2} = \\frac{((V_{f}*(1 + \\nu_{f})*\\Delta C_{f}*\\beta_{f} + V_{m}*(1 + \\nu_{m})*\\Delta C_{m}*\\beta_{m})}{(V_{m}*\\rho_{m}*\\Delta C_{m} + V_{f}*\\rho_{f}*\\Delta C_{f}))}*\\rho-\\beta_{1}*\\nu_{12}\\\\\n",
    "\\Delta C_{f} = 0\\\\\n",
    "=> \\beta_{2} = (1+\\nu_{m})*(\\frac{\\rho}{\\rho_{m}})*\\beta_{m} - \\beta_{1}*\\nu_{12} $$"
   ]
  },
  {
   "cell_type": "code",
   "execution_count": 10,
   "metadata": {
    "collapsed": false,
    "nbpresent": {
     "id": "ecb89bd7-8017-4f87-a05b-49b64fbc224c"
    }
   },
   "outputs": [],
   "source": [
    "def Beta2(beta1, nu12): #delta_cf, delta_cm, vf, vm, ef, em):\n",
    "    return (1+num)*(rho/rhom)*betam - beta1*nu12\n",
    "    #return ((vf*(1 + nuf)*delta_cf*betaf \n",
    "    #         + vm*(1 + num)*delta_cm*betam)*Rho(vf, vm)/\n",
    "    #        (vm*rhom*delta_cm + vf*rhof*delta_cf))-\n",
    "#Beta1(delta_cf, delta_cf, vf, vm, ef, em)*Nu12(vf, vm)"
   ]
  },
  {
   "cell_type": "markdown",
   "metadata": {},
   "source": [
    "$$ E_{1} = 18314.6 $$"
   ]
  },
  {
   "cell_type": "code",
   "execution_count": 11,
   "metadata": {
    "collapsed": false,
    "nbpresent": {
     "id": "29730d3d-d232-4362-9ebc-450806ae9b68"
    }
   },
   "outputs": [],
   "source": [
    "e1 = E1(vf)\n",
    "#print(e1)"
   ]
  },
  {
   "cell_type": "markdown",
   "metadata": {},
   "source": [
    "$$ E_{2} = 835.8919731812771 $$"
   ]
  },
  {
   "cell_type": "code",
   "execution_count": 12,
   "metadata": {
    "collapsed": false,
    "nbpresent": {
     "id": "d4ad529b-41c7-4fbe-b661-e6a75ab391fe"
    }
   },
   "outputs": [],
   "source": [
    "e2 = E2(vf, vm)\n",
    "#print(e2)"
   ]
  },
  {
   "cell_type": "markdown",
   "metadata": {},
   "source": [
    "$$ \\alpha_{1} = 5.312253611872497*10^{-6} $$"
   ]
  },
  {
   "cell_type": "code",
   "execution_count": 13,
   "metadata": {
    "collapsed": false,
    "nbpresent": {
     "id": "8faa8b3d-2d87-414f-a50b-48ac616e2668"
    }
   },
   "outputs": [],
   "source": [
    "alpha1 = Alpha1(vf, vm)\n",
    "#print(alpha1)"
   ]
  },
  {
   "cell_type": "markdown",
   "metadata": {},
   "source": [
    "$$ \\alpha_{2} = 3.1252685809135886*10^{-5} $$"
   ]
  },
  {
   "cell_type": "code",
   "execution_count": 14,
   "metadata": {
    "collapsed": false,
    "nbpresent": {
     "id": "fb82fbe8-8670-467a-a556-1ed685130d2f"
    }
   },
   "outputs": [],
   "source": [
    "alpha2 = Alpha2(vf, vm)\n",
    "#print(alpha2)"
   ]
  },
  {
   "cell_type": "markdown",
   "metadata": {},
   "source": [
    "$$ \\nu_{12} = 0.3 $$"
   ]
  },
  {
   "cell_type": "code",
   "execution_count": 15,
   "metadata": {
    "collapsed": false,
    "nbpresent": {
     "id": "c49f1ed8-9e88-43b0-8e7e-6be535e0a55d"
    }
   },
   "outputs": [],
   "source": [
    "nu12 = Nu12(vf, vm)\n",
    "#print(nu12)"
   ]
  },
  {
   "cell_type": "markdown",
   "metadata": {},
   "source": [
    "$$ \\sigma_{b1} = 57.256 $$"
   ]
  },
  {
   "cell_type": "code",
   "execution_count": 16,
   "metadata": {
    "collapsed": false,
    "nbpresent": {
     "id": "a6055de9-7c0f-40bc-8ad9-849a449a6aa8"
    }
   },
   "outputs": [],
   "source": [
    "sigb1 = Sigb1(vf, vm)\n",
    "#print(sigb1)"
   ]
  },
  {
   "cell_type": "markdown",
   "metadata": {},
   "source": [
    "$$ V_{f_{lst}} = [0.0, 0.1, 0.2, 0.3, 0.4, 0.5, 0.6, 0.7, 0.8, 0.9, 1.0] $$"
   ]
  },
  {
   "cell_type": "code",
   "execution_count": 17,
   "metadata": {
    "collapsed": false,
    "nbpresent": {
     "id": "a62febf4-b3ba-48a0-97f2-7c3aa245a5b3"
    }
   },
   "outputs": [],
   "source": [
    "vf_lst = [i/10 for i in range(0, 11)]\n",
    "#print(vf_lst)"
   ]
  },
  {
   "cell_type": "markdown",
   "metadata": {},
   "source": [
    "$$ V_{m_{lst}} = [1.0, 0.9, 0.8, 0.7, 0.6, 0.5, 0.4, 0.3, 0.2, 0.1, 0.0] $$"
   ]
  },
  {
   "cell_type": "code",
   "execution_count": 18,
   "metadata": {
    "collapsed": false,
    "nbpresent": {
     "id": "a5f80766-8a21-4dda-8f5e-451d16f4f222"
    }
   },
   "outputs": [],
   "source": [
    "vm_lst = [vf_lst[i] for i in range(10, -1, -1)]\n",
    "#print(vm_lst)"
   ]
  },
  {
   "cell_type": "markdown",
   "metadata": {},
   "source": [
    "$$ E_{1_{lst}} = [290.0, 3021.0, 5752.0, 8483.0, 11214.0, 13945.0, 16676.0, 19407.0, 22138.0, 24869.0, 27600.0] $$"
   ]
  },
  {
   "cell_type": "code",
   "execution_count": 19,
   "metadata": {
    "collapsed": false
   },
   "outputs": [],
   "source": [
    "e1_lst = [E1(vf_lst[i]) for i in range(0,11)]\n",
    "#print(e1_lst)"
   ]
  },
  {
   "cell_type": "code",
   "execution_count": 20,
   "metadata": {
    "collapsed": false,
    "nbpresent": {
     "id": "4cd2b413-4bd3-4ea0-bb1c-4c5d75ac37bf"
    }
   },
   "outputs": [
    {
     "data": {
      "text/plain": [
       "<matplotlib.text.Text at 0x1cfb6395f98>"
      ]
     },
     "execution_count": 20,
     "metadata": {},
     "output_type": "execute_result"
    },
    {
     "data": {
      "image/png": "[encoded data removed]",
      "text/plain": [
       "<matplotlib.figure.Figure at 0x1cfb453ccf8>"
      ]
     },
     "metadata": {},
     "output_type": "display_data"
    }
   ],
   "source": [
    "plt.plot(vf_lst, e1_lst, marker=\"o\")\n",
    "plt.xlabel(\"Vf\")\n",
    "plt.ylabel(\"E1\")"
   ]
  },
  {
   "cell_type": "markdown",
   "metadata": {},
   "source": [
    "$$ E_{2_{lst}} = [290.0, 321.84647553178655, 361.55027554431297, 412.42850517854384, 479.97121611897336, 573.9691645751166, 713.7506688068486, 943.5341270776847, 1391.5159944367176, 2649.453823237339, 27600.0] $$"
   ]
  },
  {
   "cell_type": "code",
   "execution_count": 21,
   "metadata": {
    "collapsed": false,
    "nbpresent": {
     "id": "46ef852b-941b-4bdc-a234-e2da9986d83a"
    }
   },
   "outputs": [],
   "source": [
    "e2_lst = [E2(vf_lst[i], vm_lst[i]) for i in range(0, 11)]\n",
    "#print(e2_lst)"
   ]
  },
  {
   "cell_type": "code",
   "execution_count": 22,
   "metadata": {
    "collapsed": false,
    "nbpresent": {
     "id": "eb8f0c9a-2175-4548-b8e9-81b6bac19b90"
    }
   },
   "outputs": [
    {
     "data": {
      "text/plain": [
       "<matplotlib.text.Text at 0x1cfb635d320>"
      ]
     },
     "execution_count": 22,
     "metadata": {},
     "output_type": "execute_result"
    },
    {
     "data": {
      "image/png": "[encoded data removed]",
      "text/plain": [
       "<matplotlib.figure.Figure at 0x1cfb6232160>"
      ]
     },
     "metadata": {},
     "output_type": "display_data"
    }
   ],
   "source": [
    "plt.plot(vf_lst, e2_lst, marker=\"o\")\n",
    "plt.xlabel(\"Vf\")\n",
    "plt.ylabel(\"E2\")"
   ]
  },
  {
   "cell_type": "markdown",
   "metadata": {},
   "source": [
    "$$ \\nu_{12_{lst}} = [0.3, 0.3, 0.3, 0.3, 0.3, 0.3, 0.3, 0.3, 0.3, 0.3, 0.3] $$"
   ]
  },
  {
   "cell_type": "code",
   "execution_count": 23,
   "metadata": {
    "collapsed": false,
    "nbpresent": {
     "id": "593a6b12-04bd-4dba-abab-fb45ac1d3a42"
    }
   },
   "outputs": [],
   "source": [
    "nu12_lst = [Nu12(vf_lst[i], vm_lst[i]) for i in range(0, 11)]\n",
    "#print(nu12_lst)"
   ]
  },
  {
   "cell_type": "code",
   "execution_count": 24,
   "metadata": {
    "collapsed": false,
    "nbpresent": {
     "id": "b0d6fb05-030d-4e94-889d-e6ffb5f8b9e0"
    }
   },
   "outputs": [
    {
     "data": {
      "text/plain": [
       "<matplotlib.text.Text at 0x1cfb593e358>"
      ]
     },
     "execution_count": 24,
     "metadata": {},
     "output_type": "execute_result"
    },
    {
     "data": {
      "image/png": "[encoded data removed]",
      "text/plain": [
       "<matplotlib.figure.Figure at 0x1cfb6367c88>"
      ]
     },
     "metadata": {},
     "output_type": "display_data"
    }
   ],
   "source": [
    "plt.plot(vf_lst, nu12_lst, marker=\"o\")\n",
    "plt.xlabel(\"Vf\")\n",
    "plt.ylabel(\"Nu12\")"
   ]
  },
  {
   "cell_type": "markdown",
   "metadata": {},
   "source": [
    "$$ \\alpha_{1_{lst}} = [6.3*10^{-5}, 1.0010923535253227*10^{-5}, 7.339360222531294*10^{-6},\\\\ \n",
    "6.387952375338913*10^{-6}, 5.899946495452113*10^{-6}, 5.603083542488348*10^{-6}, \\\\\n",
    "5.403454065723195*10^{-6}, 5.2600092750038645*10^{-6}, \\\\\n",
    "5.1519559129099295*10^{-6}, 5.067634404278419*10^{-6}, 5*10^{-6}] $$"
   ]
  },
  {
   "cell_type": "code",
   "execution_count": 25,
   "metadata": {
    "collapsed": false,
    "nbpresent": {
     "id": "b4367ce9-48f8-4411-b949-8a573a38fc7a"
    }
   },
   "outputs": [],
   "source": [
    "alpha1_lst = [Alpha1(vf_lst[i], vm_lst[i]) for i in range(0, 11)]\n",
    "#print(alpha1_lst)"
   ]
  },
  {
   "cell_type": "code",
   "execution_count": 26,
   "metadata": {
    "collapsed": false,
    "nbpresent": {
     "id": "54813876-1ce3-4c62-9dc9-5f9ace692c05"
    }
   },
   "outputs": [
    {
     "data": {
      "text/plain": [
       "<matplotlib.text.Text at 0x1cfb65f9710>"
      ]
     },
     "execution_count": 26,
     "metadata": {},
     "output_type": "execute_result"
    },
    {
     "data": {
      "image/png": "[encoded data removed]",
      "text/plain": [
       "<matplotlib.figure.Figure at 0x1cfb592c978>"
      ]
     },
     "metadata": {},
     "output_type": "display_data"
    }
   ],
   "source": [
    "plt.plot(vf_lst, alpha1_lst, marker=\"o\")\n",
    "plt.xlabel(\"Vf\")\n",
    "plt.ylabel(\"alpha1\")"
   ]
  },
  {
   "cell_type": "markdown",
   "metadata": {},
   "source": [
    "$$ \\alpha_{2_{lst}} = [0.00010007104270109236, 8.692923504867873*10^{-5}, 7.321498762230343*10^{-5},\\\\\n",
    "6.02120278223649*10^{-5}, 4.8198458228755824*10{-5}, 3.727020388582394*10^{-5},\\\\\n",
    "2.7469194620497758*10^{-5}, 1.8816669979221252*10^{-5}, 1.1324539788491698*10^{-5}] $$"
   ]
  },
  {
   "cell_type": "code",
   "execution_count": 27,
   "metadata": {
    "collapsed": false,
    "nbpresent": {
     "id": "dea5cb6a-a866-4649-96fd-62d558c7cec6"
    }
   },
   "outputs": [],
   "source": [
    "alpha2_lst = [Alpha2(vf_lst[i], vm_lst[i]) for i in range(1, 10)]\n",
    "#print(alpha2_lst)"
   ]
  },
  {
   "cell_type": "code",
   "execution_count": 28,
   "metadata": {
    "collapsed": false,
    "nbpresent": {
     "id": "64fc80cb-5ad7-4c4f-82a4-791070fda1ea"
    }
   },
   "outputs": [
    {
     "data": {
      "text/plain": [
       "<matplotlib.text.Text at 0x1cfb67de198>"
      ]
     },
     "execution_count": 28,
     "metadata": {},
     "output_type": "execute_result"
    },
    {
     "data": {
      "image/png": "[encoded data removed]",
      "text/plain": [
       "<matplotlib.figure.Figure at 0x1cfb6606080>"
      ]
     },
     "metadata": {},
     "output_type": "display_data"
    }
   ],
   "source": [
    "plt.plot(vf_lst[1:10], alpha2_lst, marker=\"o\")\n",
    "plt.xlabel(\"Vf\")\n",
    "plt.ylabel(\"alpha2\")"
   ]
  },
  {
   "cell_type": "markdown",
   "metadata": {},
   "source": [
    "$$ \\rho = 0.002058 $$"
   ]
  },
  {
   "cell_type": "code",
   "execution_count": 29,
   "metadata": {
    "collapsed": false,
    "nbpresent": {
     "id": "fcaa5aba-c4a7-4072-8ad6-5110707c3915"
    }
   },
   "outputs": [],
   "source": [
    "rho = Rho(vf, vm)\n",
    "#print(rho)"
   ]
  },
  {
   "cell_type": "markdown",
   "metadata": {},
   "source": [
    "$$ \\beta_{1} = 0.008961456979677419 $$"
   ]
  },
  {
   "cell_type": "code",
   "execution_count": 30,
   "metadata": {
    "collapsed": false
   },
   "outputs": [],
   "source": [
    "beta1 = Beta1(em, e1, rho)\n",
    "#print(beta1)"
   ]
  },
  {
   "cell_type": "markdown",
   "metadata": {},
   "source": [
    "$$ \\beta_{2} = 0.733046562906097 $$"
   ]
  },
  {
   "cell_type": "code",
   "execution_count": 31,
   "metadata": {
    "collapsed": false
   },
   "outputs": [],
   "source": [
    "beta2 = Beta2(beta1, nu12)\n",
    "#print(beta2)"
   ]
  }
 ],
 "metadata": {
  "anaconda-cloud": {},
  "kernelspec": {
   "display_name": "Python [conda root]",
   "language": "python",
   "name": "conda-root-py"
  },
  "language_info": {
   "codemirror_mode": {
    "name": "ipython",
    "version": 3
   },
   "file_extension": ".py",
   "mimetype": "text/x-python",
   "name": "python",
   "nbconvert_exporter": "python",
   "pygments_lexer": "ipython3",
   "version": "3.5.2"
  }
 },
 "nbformat": 4,
 "nbformat_minor": 1
}
